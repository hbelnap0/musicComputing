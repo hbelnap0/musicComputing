{
  "cells": [
    {
      "cell_type": "markdown",
      "metadata": {
        "id": "view-in-github",
        "colab_type": "text"
      },
      "source": [
        "<a href=\"https://colab.research.google.com/github/hbelnap0/musicComputing/blob/main/week9/or.ipynb\" target=\"_parent\"><img src=\"https://colab.research.google.com/assets/colab-badge.svg\" alt=\"Open In Colab\"/></a>"
      ]
    },
    {
      "cell_type": "code",
      "execution_count": null,
      "metadata": {
        "id": "d5rfK0nuE-yC"
      },
      "outputs": [],
      "source": [
        "def functionWithOptions(text):\n",
        "    if text == \"hi\" or text == \"hello\":\n",
        "        print(\"Greetings\")\n",
        "    elif text == \"bye\" or text == \"goodbye\":\n",
        "        print(\"See you later\")\n",
        "    else:\n",
        "        print(text)"
      ]
    },
    {
      "cell_type": "code",
      "execution_count": null,
      "metadata": {
        "colab": {
          "base_uri": "https://localhost:8080/"
        },
        "id": "mfagnnYIE-yD",
        "outputId": "6f94e03d-5500-41c5-9791-8d7209a886a0"
      },
      "outputs": [
        {
          "output_type": "stream",
          "name": "stdout",
          "text": [
            "Greetings\n"
          ]
        }
      ],
      "source": [
        "functionWithOptions('hi')"
      ]
    },
    {
      "cell_type": "code",
      "execution_count": null,
      "metadata": {
        "colab": {
          "base_uri": "https://localhost:8080/"
        },
        "id": "j-ZhmQbME-yE",
        "outputId": "7a1a7111-65e9-456e-b78d-7964d7ada289"
      },
      "outputs": [
        {
          "output_type": "stream",
          "name": "stdout",
          "text": [
            "Hi\n"
          ]
        }
      ],
      "source": [
        "# note that it is case sensitive\n",
        "functionWithOptions('Hi')"
      ]
    },
    {
      "cell_type": "code",
      "execution_count": null,
      "metadata": {
        "colab": {
          "base_uri": "https://localhost:8080/"
        },
        "id": "tCG9CqHNE-yE",
        "outputId": "f5d8af5b-171e-479c-828d-0f27f7bb6f8e"
      },
      "outputs": [
        {
          "output_type": "stream",
          "name": "stdout",
          "text": [
            "Greetings\n"
          ]
        }
      ],
      "source": [
        "functionWithOptions('hello')"
      ]
    },
    {
      "cell_type": "code",
      "execution_count": null,
      "metadata": {
        "colab": {
          "base_uri": "https://localhost:8080/"
        },
        "id": "g_O0p3b4E-yE",
        "outputId": "8381e7d1-2020-4058-bd55-ab1d0348b811"
      },
      "outputs": [
        {
          "output_type": "stream",
          "name": "stdout",
          "text": [
            "See you later\n"
          ]
        }
      ],
      "source": [
        "functionWithOptions('bye')"
      ]
    },
    {
      "cell_type": "code",
      "execution_count": null,
      "metadata": {
        "colab": {
          "base_uri": "https://localhost:8080/"
        },
        "id": "EucIKGccE-yF",
        "outputId": "e8008f21-8d74-425b-aae0-1b01d730595e"
      },
      "outputs": [
        {
          "output_type": "stream",
          "name": "stdout",
          "text": [
            "See you later\n"
          ]
        }
      ],
      "source": [
        "functionWithOptions('goodbye')"
      ]
    },
    {
      "cell_type": "code",
      "execution_count": null,
      "metadata": {
        "colab": {
          "base_uri": "https://localhost:8080/"
        },
        "id": "gkxKFjTmE-yF",
        "outputId": "13cf6a86-0860-431a-ba42-beac817b6cf1"
      },
      "outputs": [
        {
          "output_type": "stream",
          "name": "stdout",
          "text": [
            "Something else\n"
          ]
        }
      ],
      "source": [
        "functionWithOptions('Something else')"
      ]
    }
  ],
  "metadata": {
    "kernelspec": {
      "display_name": "Python 3",
      "language": "python",
      "name": "python3"
    },
    "language_info": {
      "codemirror_mode": {
        "name": "ipython",
        "version": 3
      },
      "file_extension": ".py",
      "mimetype": "text/x-python",
      "name": "python",
      "nbconvert_exporter": "python",
      "pygments_lexer": "ipython3",
      "version": "3.6.4"
    },
    "colab": {
      "provenance": [],
      "include_colab_link": true
    }
  },
  "nbformat": 4,
  "nbformat_minor": 0
}