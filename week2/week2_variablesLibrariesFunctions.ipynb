{
  "nbformat": 4,
  "nbformat_minor": 0,
  "metadata": {
    "colab": {
      "provenance": [],
      "include_colab_link": true
    },
    "kernelspec": {
      "name": "python3",
      "display_name": "Python 3"
    },
    "language_info": {
      "name": "python"
    }
  },
  "cells": [
    {
      "cell_type": "markdown",
      "metadata": {
        "id": "view-in-github",
        "colab_type": "text"
      },
      "source": [
        "<a href=\"https://colab.research.google.com/github/hbelnap0/musicComputing/blob/main/week2/week2_variablesLibrariesFunctions.ipynb\" target=\"_parent\"><img src=\"https://colab.research.google.com/assets/colab-badge.svg\" alt=\"Open In Colab\"/></a>"
      ]
    },
    {
      "cell_type": "markdown",
      "source": [
        "# Variables"
      ],
      "metadata": {
        "id": "sRDbCDkX195H"
      }
    },
    {
      "cell_type": "markdown",
      "source": [
        "## Example Code"
      ],
      "metadata": {
        "id": "UgSwSiyK1nW6"
      }
    },
    {
      "cell_type": "code",
      "execution_count": 2,
      "metadata": {
        "id": "DOF2qPUzf1o9"
      },
      "outputs": [],
      "source": [
        "# store 55 into a variable, we will use this later for a fundamental at 55 Hz\n",
        "fundamental = 55"
      ]
    },
    {
      "cell_type": "code",
      "source": [
        "# print the value of fundamental\n",
        "print(fundamental)"
      ],
      "metadata": {
        "colab": {
          "base_uri": "https://localhost:8080/"
        },
        "id": "DA-nvgnc1ZIU",
        "outputId": "11054fdb-1fcd-4ec4-ef79-0f1b5a456522"
      },
      "execution_count": 3,
      "outputs": [
        {
          "output_type": "stream",
          "name": "stdout",
          "text": [
            "55\n"
          ]
        }
      ]
    },
    {
      "cell_type": "code",
      "source": [
        "# calculate the value in hertz of the second partial (which is twice the fundamental)\n",
        "firstPartial = 55 * 2\n",
        "\n",
        "# print the value of the first partial\n",
        "print(firstPartial)"
      ],
      "metadata": {
        "colab": {
          "base_uri": "https://localhost:8080/"
        },
        "id": "hOqDPDxE1a48",
        "outputId": "8de3b157-0108-4f35-ae50-5952c6074144"
      },
      "execution_count": 5,
      "outputs": [
        {
          "output_type": "stream",
          "name": "stdout",
          "text": [
            "110\n"
          ]
        }
      ]
    },
    {
      "cell_type": "markdown",
      "source": [
        "# Libraries"
      ],
      "metadata": {
        "id": "UVPzEmTQ2FOb"
      }
    },
    {
      "cell_type": "markdown",
      "source": [
        "## Example Code"
      ],
      "metadata": {
        "id": "x1QAim5I2I-g"
      }
    },
    {
      "cell_type": "code",
      "source": [
        "# import the math library to have access to the log (logarithmic) function\n",
        "import math\n",
        "\n",
        "# cents divide an octave into 1200, 100 cents per semitone\n",
        "# this corresponds to the way we hear pitch better than hertz\n",
        "\n",
        "# math.log(3/2) - take the log of the frequency (hz) higher partial\n",
        "#       divided by the frequency (hz) of the lower partial\n",
        "# the rest of the equation is normalizing it so that it in relation to an octave\n",
        "# -  multiple by 1200 because there are 12 cents per octave\n",
        "# - divide by the log of 2  because the ratio of the octave is 2/1 (double)\n",
        "\n",
        "cents = math.log(165/110) * 1200 / math.log(2)\n",
        "print(cents)"
      ],
      "metadata": {
        "colab": {
          "base_uri": "https://localhost:8080/"
        },
        "id": "bzfqHhwG1d95",
        "outputId": "8c9f3037-b8d1-47e3-f5a9-a6cd1de59b87"
      },
      "execution_count": 6,
      "outputs": [
        {
          "output_type": "stream",
          "name": "stdout",
          "text": [
            "701.9550008653874\n"
          ]
        }
      ]
    },
    {
      "cell_type": "markdown",
      "source": [
        "## Exercise 1\n",
        "### Calculate the difference in cents between the fundamental (55 Hz) and partials 1 through 5\n",
        "##### Uncomment and finish the lines of code below"
      ],
      "metadata": {
        "id": "2D7hNTPb2MPy"
      }
    },
    {
      "cell_type": "code",
      "source": [
        "# first calculate the values in hertz for all of the partials\n",
        "# fundamental and firstPartial are defined above\n",
        "secondPartial = 55 * 3\n",
        "thirdPartial = 55 * 4\n",
        "fourthPartial = 55 * 5\n",
        "fifthPartial = 55 * 6"
      ],
      "metadata": {
        "id": "VS7-hgqz1w5B"
      },
      "execution_count": 9,
      "outputs": []
    },
    {
      "cell_type": "code",
      "source": [
        "# then calculate the difference between each partial and the fundamental in each partial\n",
        "firstInterval = math.log(firstPartial/fundamental) * 1200 / math.log(2)\n",
        "secondInterval = math.log(secondPartial/fundamental) * 1200 / math.log(2)\n",
        "thirdInterval = math.log(thirdPartial/fundamental) * 1200 / math.log(2)\n",
        "fourthInterval = math.log(fourthPartial/fundamental) * 1200 / math.log(2)\n",
        "fifthInterval = math.log(fifthPartial/fundamental) * 1200 / math.log(2)"
      ],
      "metadata": {
        "id": "897lELxRSqgf"
      },
      "execution_count": 16,
      "outputs": []
    },
    {
      "cell_type": "markdown",
      "source": [
        "# Functions"
      ],
      "metadata": {
        "id": "n7MuDfYVf7Gn"
      }
    },
    {
      "cell_type": "code",
      "source": [
        "# Define a simple function that imports a string and prints it\n",
        "# important components\n",
        "#       - def at the beginning of the line\n",
        "#       - name of the function next\n",
        "#       - any variables you are going to pass to the function in parantheses\n",
        "#         the names you use here are what they are referred to *in* the function\n",
        "#         you can pass any variable name or data in as long as it's the same type\n",
        "#       - a colon after the closing paranthesis\n",
        "#       - tab indent all of the lines below the first one\n",
        "\n",
        "# def printText(string):\n",
        "#     print(string)\n",
        "\n",
        "def printText(string):\n",
        "    print(string)"
      ],
      "metadata": {
        "id": "AgnUXWdRf6kB"
      },
      "execution_count": 25,
      "outputs": []
    },
    {
      "cell_type": "code",
      "source": [
        "# Run the function with the string 'Hello World'! as input\n",
        "\n",
        "# printText('Hello world!')\n",
        "\n",
        "printText('Hello world!')\n"
      ],
      "metadata": {
        "colab": {
          "base_uri": "https://localhost:8080/"
        },
        "id": "FmansVJjgNfp",
        "outputId": "3b93fc47-f05d-4134-d30a-1e758f9438c8"
      },
      "execution_count": 27,
      "outputs": [
        {
          "output_type": "stream",
          "name": "stdout",
          "text": [
            "Hello world!\n"
          ]
        }
      ]
    },
    {
      "cell_type": "code",
      "source": [
        "# Define a function that takes two arguments (a string and an number)\n",
        "\n",
        "# def printTextNum(string,number):\n",
        "#     print(string)\n",
        "#     print(number)\n",
        "\n",
        "def printTextNum(string,number):\n",
        "    print(string)\n",
        "    print(number)\n",
        ""
      ],
      "metadata": {
        "id": "bpylFjSBhkli"
      },
      "execution_count": 24,
      "outputs": []
    },
    {
      "cell_type": "code",
      "source": [
        "# Run the function with the string 'Hello World'! and the number 2 as input\n",
        "\n",
        "# printTextNum('Hello world!',2)\n",
        "\n",
        "printTextNum('can this recall variables?',fifthInterval)\n"
      ],
      "metadata": {
        "colab": {
          "base_uri": "https://localhost:8080/"
        },
        "id": "ZFzK9rJEhxcb",
        "outputId": "8ae2489d-8ea1-4e58-b336-d3c5dc2db325"
      },
      "execution_count": 29,
      "outputs": [
        {
          "output_type": "stream",
          "name": "stdout",
          "text": [
            "can this recall variables?\n",
            "3101.9550008653873\n"
          ]
        }
      ]
    },
    {
      "cell_type": "code",
      "source": [
        "def intervalCalc(number/number*1200/math.log(2))"
      ],
      "metadata": {
        "id": "II5BJdtIiaud",
        "outputId": "d693f362-0fd6-47c1-a3a3-b11dd37bc19e",
        "colab": {
          "base_uri": "https://localhost:8080/",
          "height": 108
        }
      },
      "execution_count": 41,
      "outputs": [
        {
          "output_type": "error",
          "ename": "SyntaxError",
          "evalue": "invalid syntax (<ipython-input-41-d6449e48c760>, line 1)",
          "traceback": [
            "\u001b[0;36m  File \u001b[0;32m\"<ipython-input-41-d6449e48c760>\"\u001b[0;36m, line \u001b[0;32m1\u001b[0m\n\u001b[0;31m    def intervalCalc(number/number*1200/math.log(2))\u001b[0m\n\u001b[0m                           ^\u001b[0m\n\u001b[0;31mSyntaxError\u001b[0m\u001b[0;31m:\u001b[0m invalid syntax\n"
          ]
        }
      ]
    },
    {
      "cell_type": "markdown",
      "source": [
        "## Exercise 2"
      ],
      "metadata": {
        "id": "4t95XTXqie5Q"
      }
    },
    {
      "cell_type": "code",
      "source": [
        "# Run the function with\n",
        "#      - an audio file name 'avm.wav'\n",
        "#      - 44100 sampling rate\n",
        "# as input\n",
        "\n",
        "printTextNum('avm.wav', 44100)"
      ],
      "metadata": {
        "id": "ga63zgf1iXGv",
        "outputId": "afd1f7a5-14fb-45ac-c2bf-d72114b02460",
        "colab": {
          "base_uri": "https://localhost:8080/"
        }
      },
      "execution_count": 37,
      "outputs": [
        {
          "output_type": "stream",
          "name": "stdout",
          "text": [
            "avm.wav\n",
            "44100\n"
          ]
        }
      ]
    }
  ]
}